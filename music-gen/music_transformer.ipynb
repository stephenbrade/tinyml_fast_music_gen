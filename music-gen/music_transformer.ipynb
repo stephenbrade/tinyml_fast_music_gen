{
 "cells": [
  {
   "cell_type": "code",
   "execution_count": 1,
   "id": "8d59642c-6296-4d0e-b063-78aa66e81a22",
   "metadata": {},
   "outputs": [],
   "source": [
    "import os\n",
    "import sys\n",
    "import torch\n",
    "import torch.utils.data as data\n",
    "import miditok\n",
    "from miditok import MIDILike\n",
    "from miditok import REMI, TokenizerConfig\n",
    "from miditok.pytorch_data import DatasetMIDI, DataCollator\n",
    "from miditok.utils import split_files_for_training\n",
    "from pathlib import Path\n",
    "import glob\n",
    "\n",
    "sys.path.append('MusicTransformer-Pytorch')"
   ]
  },
  {
   "cell_type": "code",
   "execution_count": 2,
   "id": "ea47b5fa-3fea-49f2-9ac4-7883fbc5d1cf",
   "metadata": {},
   "outputs": [],
   "source": [
    "dataset_path = Path('maestro-v3.0.0').resolve()\n",
    "files_paths = [file_path.resolve() for file_path in dataset_path.glob(\"**/*.midi\")]\n",
    "# print(files_paths)"
   ]
  },
  {
   "cell_type": "code",
   "execution_count": 3,
   "id": "712193ff-3815-4135-a49d-8a7ecb7271f8",
   "metadata": {},
   "outputs": [
    {
     "name": "stdout",
     "output_type": "stream",
     "text": [
      "/storage/vsub851/neural-architecture-search/music-gen/maestro-v3.0.0\n"
     ]
    }
   ],
   "source": [
    "tokenizer = MIDILike()\n",
    "dataset_chunks_dir = Path('/storage/vsub851/neural-architecture-search/music-gen/maestro-v3.0.0').resolve()\n",
    "print(dataset_chunks_dir)"
   ]
  },
  {
   "cell_type": "code",
   "execution_count": 4,
   "id": "846403da-ba7d-46cb-8056-0b133c721f4f",
   "metadata": {},
   "outputs": [
    {
     "name": "stderr",
     "output_type": "stream",
     "text": [
      "Splitting music files (/storage/vsub851/neural-architecture-search/music-gen/maestro-v3.0.0): 100%|██████████████████████| 118492/118492 [02:00<00:00, 984.21it/s]\n"
     ]
    }
   ],
   "source": [
    "split_files_for_training(\n",
    "    files_paths=files_paths,\n",
    "    tokenizer=tokenizer,\n",
    "    save_dir=dataset_chunks_dir,\n",
    "    max_seq_len=1024,\n",
    ")\n",
    "dataset = DatasetMIDI(\n",
    "    files_paths=files_paths,\n",
    "    tokenizer=tokenizer,\n",
    "    max_seq_len=1024,\n",
    "    bos_token_id=tokenizer['BOS_None'],\n",
    "    eos_token_id=tokenizer['EOS_None'],\n",
    ")"
   ]
  },
  {
   "cell_type": "code",
   "execution_count": 5,
   "id": "b6f4728f-ae26-4a62-9db1-f61552fae5c1",
   "metadata": {},
   "outputs": [],
   "source": [
    "collator = DataCollator(tokenizer.pad_token_id, copy_inputs_as_labels=True)\n",
    "dataloader = data.DataLoader(dataset, batch_size=64, collate_fn=collator)"
   ]
  },
  {
   "cell_type": "code",
   "execution_count": 6,
   "id": "79883d19-2f37-4a83-8850-01675faf9b5c",
   "metadata": {},
   "outputs": [
    {
     "name": "stdout",
     "output_type": "stream",
     "text": [
      "{'input_ids': tensor([[  1, 212,  66,  ...,  65, 198,   0],\n",
      "        [  1, 212,  69,  ..., 108,  32,   0],\n",
      "        [  1,  16, 198,  ...,   0,   0,   0],\n",
      "        ...,\n",
      "        [ 63, 197, 212,  ...,  51, 191,  55],\n",
      "        [  1, 213,  16,  ..., 212,  52,   0],\n",
      "        [  1, 231,  72,  ..., 198, 212,   0]]), 'labels': tensor([[   1,  212,   66,  ...,   65,  198, -100],\n",
      "        [   1,  212,   69,  ...,  108,   32, -100],\n",
      "        [   1,   16,  198,  ..., -100, -100, -100],\n",
      "        ...,\n",
      "        [  63,  197,  212,  ...,   51,  191,   55],\n",
      "        [   1,  213,   16,  ...,  212,   52, -100],\n",
      "        [   1,  231,   72,  ...,  198,  212, -100]]), 'attention_mask': tensor([[1, 1, 1,  ..., 1, 1, 0],\n",
      "        [1, 1, 1,  ..., 1, 1, 0],\n",
      "        [1, 1, 1,  ..., 0, 0, 0],\n",
      "        ...,\n",
      "        [1, 1, 1,  ..., 1, 1, 1],\n",
      "        [1, 1, 1,  ..., 1, 1, 0],\n",
      "        [1, 1, 1,  ..., 1, 1, 0]], dtype=torch.int32)}\n"
     ]
    }
   ],
   "source": [
    "for batch in dataloader:\n",
    "    print(batch)\n",
    "    break"
   ]
  },
  {
   "cell_type": "code",
   "execution_count": 7,
   "id": "a7037c3f-f63d-411e-b358-10b33c855f20",
   "metadata": {},
   "outputs": [
    {
     "name": "stdout",
     "output_type": "stream",
     "text": [
      "----- WARNING: CUDA devices not detected. This will cause the model to run very slow! -----\n",
      "\n"
     ]
    }
   ],
   "source": [
    "from model.music_transformer import MusicTransformer"
   ]
  },
  {
   "cell_type": "code",
   "execution_count": 8,
   "id": "722d3663-b070-4006-bc21-067a5d70e580",
   "metadata": {},
   "outputs": [
    {
     "data": {
      "text/plain": [
       "model.music_transformer.MusicTransformer"
      ]
     },
     "execution_count": 8,
     "metadata": {},
     "output_type": "execute_result"
    }
   ],
   "source": [
    "MusicTransformer"
   ]
  },
  {
   "cell_type": "code",
   "execution_count": 9,
   "id": "4f6b219c-8e2e-4f17-a4d6-86bf94d6ce1c",
   "metadata": {},
   "outputs": [],
   "source": [
    "model = MusicTransformer(n_layers=12, num_heads=12,\n",
    "            d_model=768, dim_feedforward=2048, dropout=0.1,\n",
    "            max_sequence=2048, rpr=True)"
   ]
  },
  {
   "cell_type": "code",
   "execution_count": 10,
   "id": "a6b07ed4-748c-4fee-9d50-6e57b8503640",
   "metadata": {},
   "outputs": [
    {
     "data": {
      "text/plain": [
       "MusicTransformer(\n",
       "  (dummy): DummyDecoder()\n",
       "  (embedding): Embedding(390, 768)\n",
       "  (positional_encoding): PositionalEncoding(\n",
       "    (dropout): Dropout(p=0.1, inplace=False)\n",
       "  )\n",
       "  (transformer): Transformer(\n",
       "    (encoder): TransformerEncoderRPR(\n",
       "      (layers): ModuleList(\n",
       "        (0-11): 12 x TransformerEncoderLayerRPR(\n",
       "          (self_attn): MultiheadAttentionRPR(\n",
       "            (out_proj): Linear(in_features=768, out_features=768, bias=True)\n",
       "          )\n",
       "          (linear1): Linear(in_features=768, out_features=2048, bias=True)\n",
       "          (dropout): Dropout(p=0.1, inplace=False)\n",
       "          (linear2): Linear(in_features=2048, out_features=768, bias=True)\n",
       "          (norm1): LayerNorm((768,), eps=1e-05, elementwise_affine=True)\n",
       "          (norm2): LayerNorm((768,), eps=1e-05, elementwise_affine=True)\n",
       "          (dropout1): Dropout(p=0.1, inplace=False)\n",
       "          (dropout2): Dropout(p=0.1, inplace=False)\n",
       "        )\n",
       "      )\n",
       "      (norm): LayerNorm((768,), eps=1e-05, elementwise_affine=True)\n",
       "    )\n",
       "    (decoder): DummyDecoder()\n",
       "  )\n",
       "  (Wout): Linear(in_features=768, out_features=390, bias=True)\n",
       "  (softmax): Softmax(dim=-1)\n",
       ")"
      ]
     },
     "execution_count": 10,
     "metadata": {},
     "output_type": "execute_result"
    }
   ],
   "source": [
    "model"
   ]
  },
  {
   "cell_type": "code",
   "execution_count": 11,
   "id": "1fc83012-6944-4cf6-9bbd-ae8d59e5d897",
   "metadata": {},
   "outputs": [
    {
     "name": "stdout",
     "output_type": "stream",
     "text": [
      "{'input_ids': tensor([[  1, 212,  66,  ...,  65, 198,   0],\n",
      "        [  1, 212,  69,  ..., 108,  32,   0],\n",
      "        [  1,  16, 198,  ...,   0,   0,   0],\n",
      "        ...,\n",
      "        [ 63, 197, 212,  ...,  51, 191,  55],\n",
      "        [  1, 213,  16,  ..., 212,  52,   0],\n",
      "        [  1, 231,  72,  ..., 198, 212,   0]]), 'labels': tensor([[   1,  212,   66,  ...,   65,  198, -100],\n",
      "        [   1,  212,   69,  ...,  108,   32, -100],\n",
      "        [   1,   16,  198,  ..., -100, -100, -100],\n",
      "        ...,\n",
      "        [  63,  197,  212,  ...,   51,  191,   55],\n",
      "        [   1,  213,   16,  ...,  212,   52, -100],\n",
      "        [   1,  231,   72,  ...,  198,  212, -100]]), 'attention_mask': tensor([[1, 1, 1,  ..., 1, 1, 0],\n",
      "        [1, 1, 1,  ..., 1, 1, 0],\n",
      "        [1, 1, 1,  ..., 0, 0, 0],\n",
      "        ...,\n",
      "        [1, 1, 1,  ..., 1, 1, 1],\n",
      "        [1, 1, 1,  ..., 1, 1, 0],\n",
      "        [1, 1, 1,  ..., 1, 1, 0]], dtype=torch.int32)}\n",
      "tensor([[[ 0.0358, -0.1839, -0.5190,  ...,  0.2532,  0.0804,  0.0048],\n",
      "         [-0.5835,  0.5661, -0.9760,  ..., -0.3022,  0.0614, -0.2386],\n",
      "         [-1.0988,  0.3221, -0.8692,  ...,  0.6524,  0.0730, -0.4259],\n",
      "         ...,\n",
      "         [-0.5124, -0.0227, -0.3735,  ...,  1.1853,  0.7176,  0.0207],\n",
      "         [-0.5834, -0.4997,  0.0701,  ...,  0.9631,  0.4256,  0.7532],\n",
      "         [-0.3840, -0.2165, -0.3773,  ...,  0.4212,  0.6421,  0.2787]],\n",
      "\n",
      "        [[-0.7676, -0.4496, -1.0693,  ...,  0.2465,  0.0449, -0.3357],\n",
      "         [-0.0405, -0.5970, -0.0394,  ...,  1.2520,  0.4041,  0.1735],\n",
      "         [ 0.1343,  0.0915, -0.0144,  ...,  0.5981,  0.9945, -0.0747],\n",
      "         ...,\n",
      "         [-0.2692, -0.1936, -0.5980,  ...,  1.0085, -0.0413, -0.0669],\n",
      "         [-0.6425,  0.1308, -0.2867,  ...,  0.9232,  0.6647, -0.0808],\n",
      "         [ 0.2883, -0.3651, -0.1911,  ...,  0.5735,  0.5757,  0.2157]],\n",
      "\n",
      "        [[-0.3127,  0.1809, -0.5711,  ...,  0.4038,  0.6769,  0.0039],\n",
      "         [-0.1363, -0.6809,  0.1388,  ...,  1.0577,  0.0198,  0.2264],\n",
      "         [-0.3504, -0.2043, -0.0290,  ...,  0.4248,  0.7829,  0.2755],\n",
      "         ...,\n",
      "         [-0.1165, -0.0273, -0.6223,  ...,  0.9338, -0.0880,  0.0708],\n",
      "         [-0.2388,  0.1195, -0.7872,  ...,  0.6915,  0.1507,  0.2016],\n",
      "         [ 0.2525, -0.4343, -0.5984,  ...,  1.2463,  0.0130,  0.2584]],\n",
      "\n",
      "        ...,\n",
      "\n",
      "        [[-0.2169,  0.4060, -0.8372,  ...,  0.3048, -0.2496,  0.2953],\n",
      "         [ 0.1664,  0.6649, -0.6044,  ...,  0.3269,  0.5175,  0.1317],\n",
      "         [-0.4589,  0.0193, -0.7012,  ...,  0.3380,  0.5890, -0.2888],\n",
      "         ...,\n",
      "         [-0.2882,  0.1451, -0.6937,  ...,  0.2941,  0.2746,  0.6518],\n",
      "         [-0.2491, -0.2747, -0.8945,  ...,  0.9409,  0.8251, -0.1031],\n",
      "         [-0.4486,  0.4820, -0.8664,  ...,  1.2283,  0.1715,  0.3926]],\n",
      "\n",
      "        [[-0.7204,  0.2579, -0.6077,  ...,  0.7856, -0.4411, -0.3380],\n",
      "         [-0.5626,  0.5013, -1.0982,  ...,  0.4568, -0.8719, -0.5078],\n",
      "         [-0.4987,  0.4195,  0.6074,  ...,  0.9046,  0.1739, -0.3152],\n",
      "         ...,\n",
      "         [-0.4107, -0.3557, -0.6342,  ...,  1.5157,  0.2017,  0.0087],\n",
      "         [-0.0959,  0.0438, -0.2171,  ...,  0.7135,  0.5652,  1.0686],\n",
      "         [ 0.0127,  0.0535, -1.0679,  ...,  0.8984,  0.1031,  0.3082]],\n",
      "\n",
      "        [[-0.4119, -0.0245, -0.6923,  ...,  1.1595,  0.1930, -0.1990],\n",
      "         [ 0.2192, -0.9609, -0.0956,  ...,  1.1085, -0.2397, -0.0517],\n",
      "         [ 0.2129, -0.3247, -0.1466,  ...,  1.1025, -0.0316, -0.5115],\n",
      "         ...,\n",
      "         [-0.2178, -0.2568, -0.7415,  ...,  1.7363,  0.2173, -0.0824],\n",
      "         [-0.2819, -0.6577, -0.7629,  ...,  1.1833,  0.4511,  0.6055],\n",
      "         [-0.0656,  0.1219, -0.3391,  ...,  0.5315, -0.0987, -0.2213]]],\n",
      "       grad_fn=<AddBackward0>)\n"
     ]
    }
   ],
   "source": [
    "for batch in dataloader:\n",
    "    print(batch)\n",
    "    print(model(batch['input_ids']))\n",
    "    break"
   ]
  }
 ],
 "metadata": {
  "kernelspec": {
   "display_name": "Python 3 (ipykernel)",
   "language": "python",
   "name": "python3"
  },
  "language_info": {
   "codemirror_mode": {
    "name": "ipython",
    "version": 3
   },
   "file_extension": ".py",
   "mimetype": "text/x-python",
   "name": "python",
   "nbconvert_exporter": "python",
   "pygments_lexer": "ipython3",
   "version": "3.9.20"
  }
 },
 "nbformat": 4,
 "nbformat_minor": 5
}
